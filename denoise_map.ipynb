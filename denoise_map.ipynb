{
 "cells": [
  {
   "cell_type": "code",
   "execution_count": null,
   "id": "69c0da66-c3fb-4dc1-8f62-8877b76ecd8a",
   "metadata": {},
   "outputs": [],
   "source": [
    "import numpy as np\n",
    "import glob, os\n",
    "import tensorflow as tf\n",
    "tf.config.set_visible_devices([], 'GPU') #To denoise using CPU for big Maps\n",
    "from models3 import FRCUnetModel"
   ]
  },
  {
   "cell_type": "code",
   "execution_count": null,
   "id": "c3950706-05cd-4939-8866-46edd164b680",
   "metadata": {},
   "outputs": [],
   "source": [
    "import mrcfile"
   ]
  },
  {
   "cell_type": "code",
   "execution_count": null,
   "id": "7b9b5eb6-93de-4c7c-b7a5-927d069211e9",
   "metadata": {},
   "outputs": [],
   "source": [
    "def standardize(img):\n",
    "    return ((img-img.mean())/(np.std(img)))\n",
    "\n",
    "def pad_n(h,factor=32):\n",
    "    if (h%factor!=0):\n",
    "        h_new=factor*np.ceil(h/factor)\n",
    "        return int(h_new)\n",
    "    return h\n",
    "\n",
    "def process_output(image,h,w,d):\n",
    "    image=tf.squeeze(image)\n",
    "    image=image.numpy()\n",
    "    image=image[:h,:w,:d]\n",
    "    return image\n",
    "\n",
    "def scale_back(out,inp):\n",
    "    temp=standardize(out)\n",
    "    temp*=np.std(inp)\n",
    "    temp+=np.mean(inp)\n",
    "    return temp\n",
    "\n",
    "def denoise_map(full_map, model):\n",
    "    \n",
    "        dmap=standardize(full_map)\n",
    "        \n",
    "        dmap_shape=dmap.shape\n",
    "        h,w,d=dmap_shape\n",
    "        h_new=pad_n(h)\n",
    "        w_new=pad_n(w)\n",
    "        d_new=pad_n(d)\n",
    "         \n",
    "        dmap=np.pad(dmap,((0,h_new-h),(0,w_new-w),(0,d_new-d)),mode='symmetric')\n",
    "\n",
    "        # Prediction and post-processing\n",
    "        dmap=model(dmap.reshape([1,h_new,w_new,d_new,1]))\n",
    "        dmap=process_output(dmap,h,w,d)\n",
    "        dmap=scale_back(dmap,full_map)\n",
    "        return dmap\n",
    "    \n",
    "def save_map(denoised,half_map1,save_path,voxel_size):\n",
    "\n",
    "        with mrcfile.new(save_path, overwrite=True) as mrc:\n",
    "                mrc.set_data(np.float32(denoised))\n",
    "        with mrcfile.open(save_path,mode='r+') as mrc:\n",
    "                mrc.set_extended_header(half_map1.header)\n",
    "                mrc._set_voxel_size(voxel_size.x,voxel_size.y,voxel_size.z)\n",
    "        print('Map saved')"
   ]
  },
  {
   "cell_type": "code",
   "execution_count": null,
   "id": "31ebd14a-0d31-4873-aadc-41704c18bc63",
   "metadata": {},
   "outputs": [],
   "source": [
    "model_path = './models/saved-model-epoch-192'\n",
    "log_path = './logs/'\n",
    "model = FRCUnetModel(logdir=log_path,model_path=model_path)"
   ]
  },
  {
   "cell_type": "code",
   "execution_count": null,
   "id": "b6b683cf-2c18-498a-96d1-6d3a1fcc9ae3",
   "metadata": {},
   "outputs": [],
   "source": [
    "map_num = 11698"
   ]
  },
  {
   "cell_type": "code",
   "execution_count": null,
   "id": "250c9982-4380-41c4-b5c7-5184c7b17075",
   "metadata": {},
   "outputs": [],
   "source": [
    "half_map1_path ='./maps/emd_{}_half_map_1.map.gz'.format(map_num)\n",
    "half_map2_path ='./maps/emd_{}_half_map_2.map.gz'.format(map_num)\n",
    "mask_path = './maps/emd_{}_msk_1.map'.format(map_num)"
   ]
  },
  {
   "cell_type": "code",
   "execution_count": null,
   "id": "9c3743cb-71c0-48c2-8f9a-28b2703e27ad",
   "metadata": {},
   "outputs": [],
   "source": [
    "map1_url = \"https://ftp.ebi.ac.uk/pub/databases/emdb/structures/EMD-{}/other/emd_{}_half_map_1.map.gz\".format(map_num, map_num)\n",
    "map2_url = \"https://ftp.ebi.ac.uk/pub/databases/emdb/structures/EMD-{}/other/emd_{}_half_map_2.map.gz\".format(map_num, map_num)\n",
    "mask_url = \"https://ftp.ebi.ac.uk/pub/databases/emdb/structures/EMD-{}/masks/emd_{}_msk_1.map\".format(map_num, map_num)"
   ]
  },
  {
   "cell_type": "code",
   "execution_count": null,
   "id": "c3c0c104-03ab-4cac-a60d-558c033943df",
   "metadata": {},
   "outputs": [],
   "source": [
    "!wget -P ./maps/ map1_url\n",
    "!wget -P ./maps/ map2_url\n",
    "!wget -P ./maps/ mask_url"
   ]
  },
  {
   "cell_type": "code",
   "execution_count": null,
   "id": "05b2aac0-5ac7-4289-88bf-4e2f83a1725d",
   "metadata": {},
   "outputs": [],
   "source": [
    "!ls ./maps"
   ]
  },
  {
   "cell_type": "code",
   "execution_count": null,
   "id": "a60e05f5-8d9b-4f39-b72a-22a59e411cdf",
   "metadata": {},
   "outputs": [],
   "source": [
    "half_map1_info = mrcfile.open(half_map1_path)\n",
    "voxel_size=half_map1_info.voxel_size\n",
    "half_map1 = mrcfile.open(half_map1_path).data.astype(np.float32)\n",
    "half_map2 = mrcfile.open(half_map2_path).data.astype(np.float32)\n",
    "mask_file = mrcfile.open(mask_path).data.astype(np.float32)"
   ]
  },
  {
   "cell_type": "code",
   "execution_count": null,
   "id": "8001609d-a4c7-4cf1-a2ea-8f4657444f54",
   "metadata": {},
   "outputs": [],
   "source": [
    "full_map=(half_map1+half_map2)/2"
   ]
  },
  {
   "cell_type": "code",
   "execution_count": null,
   "id": "b4b0c4e8-bf68-4107-bdd5-2c6fbbfa0e68",
   "metadata": {},
   "outputs": [],
   "source": [
    "denoised = denoise_map(full_map, model)"
   ]
  },
  {
   "cell_type": "code",
   "execution_count": null,
   "id": "c55a87b9-a3f8-4272-b846-74c99b4a8af4",
   "metadata": {},
   "outputs": [],
   "source": [
    "save_map(denoised,half_map1_info,'./maps/denoised_full_11698.mrc',voxel_size)"
   ]
  }
 ],
 "metadata": {
  "kernelspec": {
   "display_name": "Python 3 (ipykernel)",
   "language": "python",
   "name": "python3"
  },
  "language_info": {
   "codemirror_mode": {
    "name": "ipython",
    "version": 3
   },
   "file_extension": ".py",
   "mimetype": "text/x-python",
   "name": "python",
   "nbconvert_exporter": "python",
   "pygments_lexer": "ipython3",
   "version": "3.10.4"
  }
 },
 "nbformat": 4,
 "nbformat_minor": 5
}
